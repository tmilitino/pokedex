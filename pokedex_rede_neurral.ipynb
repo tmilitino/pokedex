{
  "nbformat": 4,
  "nbformat_minor": 0,
  "metadata": {
    "colab": {
      "name": "pokedex - rede neurral",
      "private_outputs": true,
      "provenance": []
    },
    "kernelspec": {
      "name": "python3",
      "display_name": "Python 3"
    },
    "language_info": {
      "name": "python"
    }
  },
  "cells": [
    {
      "cell_type": "code",
      "execution_count": null,
      "metadata": {
        "id": "TfHYI-enEbqq"
      },
      "outputs": [],
      "source": [
        "import pandas as pd\n",
        "import torch\n",
        "import torch.nn as nn\n",
        "import torch.optim as optim\n",
        "from torch.optim import lr_scheduler\n",
        "import torchvision\n",
        "from torchvision import datasets, models, transforms\n",
        "import matplotlib.pyplot as plt\n",
        "import numpy as np\n",
        "import time\n",
        "import os\n",
        "import copy\n",
        "from PIL import Image\n"
      ]
    },
    {
      "cell_type": "markdown",
      "source": [
        "# Load Dataset"
      ],
      "metadata": {
        "id": "nQ2FblEME-74"
      }
    },
    {
      "cell_type": "code",
      "source": [
        "!git clone https://github.com/tmilitino/pokedex.git "
      ],
      "metadata": {
        "id": "bAZt1wtZF6Zv"
      },
      "execution_count": null,
      "outputs": []
    },
    {
      "cell_type": "markdown",
      "source": [
        "## Split dataset"
      ],
      "metadata": {
        "id": "fLyl8CCrP_2o"
      }
    },
    {
      "cell_type": "code",
      "source": [
        "import shutil\n",
        "import os\n",
        "from sklearn.model_selection import train_test_split"
      ],
      "metadata": {
        "id": "olDWnB0639s_"
      },
      "execution_count": null,
      "outputs": []
    },
    {
      "cell_type": "markdown",
      "source": [
        "## 'Bulbasaur','Charmander','Squirtle'"
      ],
      "metadata": {
        "id": "Coo_isx84-DE"
      }
    },
    {
      "cell_type": "code",
      "source": [
        "base_dir = '/content/pokedex'\n",
        "base_dir_train = '/content/pokedex/train'\n",
        "base_dir_valid = '/content/pokedex/valid'\n",
        "os.makedirs(base_dir_train)\n",
        "os.makedirs(base_dir_valid)"
      ],
      "metadata": {
        "id": "3tRc-DyB5RYd"
      },
      "execution_count": null,
      "outputs": []
    },
    {
      "cell_type": "code",
      "source": [
        "for pokemon in ['Bulbasaur','Charmander','Squirtle']:\n",
        "  pokemon_files = os.listdir(os.path.join(base_dir,'pokedex_alfa',pokemon))\n",
        "  train, valid = train_test_split(pokemon_files, test_size=0.2, random_state=42)\n",
        "  os.makedirs(os.path.join(base_dir_train,pokemon))\n",
        "  os.makedirs(os.path.join(base_dir_valid,pokemon))\n",
        "  for archive in train:\n",
        "    shutil.move(os.path.join(base_dir,'pokedex_alfa',pokemon,archive), os.path.join(base_dir_train,pokemon,archive))\n",
        "  for archive in valid:\n",
        "    shutil.move(os.path.join(base_dir,'pokedex_alfa',pokemon,archive), os.path.join(base_dir_valid,pokemon,archive))\n"
      ],
      "metadata": {
        "id": "O87FOCvSKHNr"
      },
      "execution_count": null,
      "outputs": []
    },
    {
      "cell_type": "markdown",
      "source": [
        "## Evolução"
      ],
      "metadata": {
        "id": "7AFD2VV2tSQ5"
      }
    },
    {
      "cell_type": "code",
      "source": [
        "base_dir_evo = '/content/pokedex/evolucao'\n",
        "base_dir_evo_train = '/content/pokedex/evolucao/train'\n",
        "base_dir_evo_valid = '/content/pokedex/evolucao/valid'\n",
        "os.makedirs(base_dir_evo_train)\n",
        "os.makedirs(base_dir_evo_valid)"
      ],
      "metadata": {
        "id": "WP48gZRIObyr"
      },
      "execution_count": null,
      "outputs": []
    },
    {
      "cell_type": "code",
      "source": [
        "for pokemon in ['Pikachu','Raichu']:\n",
        "  pokemon_files = os.listdir(os.path.join(base_dir_evo,pokemon))\n",
        "  train, valid = train_test_split(pokemon_files, test_size=0.2, random_state=1)\n",
        "  os.makedirs(os.path.join(base_dir_evo_train,pokemon))\n",
        "  os.makedirs(os.path.join(base_dir_evo_valid,pokemon))\n",
        "  for archive in train:\n",
        "    shutil.move(os.path.join(base_dir_evo,pokemon,archive), os.path.join(base_dir_evo_train,pokemon,archive))\n",
        "  for archive in valid:\n",
        "    shutil.move(os.path.join(base_dir_evo,pokemon,archive), os.path.join(base_dir_evo_valid,pokemon,archive))"
      ],
      "metadata": {
        "id": "UkBV5rd7ObGp"
      },
      "execution_count": null,
      "outputs": []
    },
    {
      "cell_type": "markdown",
      "source": [
        "# Experimentos"
      ],
      "metadata": {
        "id": "WV4U4pbI0x1J"
      }
    },
    {
      "cell_type": "markdown",
      "source": [
        "### Funções Basicas"
      ],
      "metadata": {
        "id": "_UPxtTK43HWE"
      }
    },
    {
      "cell_type": "code",
      "source": [
        "def train_model(model, criterion, optimizer, scheduler, num_epochs=10):\n",
        "    since = time.time()\n",
        "\n",
        "    best_model_wts = copy.deepcopy(model.state_dict())\n",
        "    best_acc = 0.0\n",
        "\n",
        "    for epoch in range(num_epochs):\n",
        "        print('Epoch {}/{}'.format(epoch, num_epochs - 1))\n",
        "        print('-' * 10)\n",
        "\n",
        "        for phase in ['train', 'valid']:\n",
        "            if phase == 'train':\n",
        "                scheduler.step()\n",
        "                model.train()  # Set model to training mode\n",
        "            else:\n",
        "                model.eval()   # Set model to evaluate mode\n",
        "\n",
        "            current_loss = 0.0\n",
        "            current_corrects = 0\n",
        "\n",
        "            # Here's where the training happens\n",
        "            print('Iterating through data...')\n",
        "\n",
        "            for inputs, labels in dataloaders[phase]:\n",
        "                inputs = inputs.to(device)\n",
        "                labels = labels.to(device)\n",
        "\n",
        "                # We need to zero the gradients, don't forget it\n",
        "                optimizer.zero_grad()\n",
        "\n",
        "                # Time to carry out the forward training poss\n",
        "                # We only need to log the loss stats if we are in training phase\n",
        "                with torch.set_grad_enabled(phase == 'train'):\n",
        "                    outputs = model(inputs)\n",
        "                    _, preds = torch.max(outputs, 1)\n",
        "                    loss = criterion(outputs, labels)\n",
        "\n",
        "                    # backward + optimize only if in training phase\n",
        "                    if phase == 'train':\n",
        "                        loss.backward()\n",
        "                        optimizer.step()\n",
        "\n",
        "                # We want variables to hold the loss statistics\n",
        "                current_loss += loss.item() * inputs.size(0)\n",
        "                current_corrects += torch.sum(preds == labels.data)\n",
        "\n",
        "            epoch_loss = current_loss / dataset_sizes[phase]\n",
        "            epoch_acc = current_corrects.double() / dataset_sizes[phase]\n",
        "\n",
        "            print('{} Loss: {:.4f} Acc: {:.4f}'.format(\n",
        "                phase, epoch_loss, epoch_acc))\n",
        "\n",
        "            # Make a copy of the model if the accuracy on the validation set has improved\n",
        "            if phase == 'valid' and epoch_acc > best_acc:\n",
        "                best_acc = epoch_acc\n",
        "                best_model_wts = copy.deepcopy(model.state_dict())\n",
        "\n",
        "        print()\n",
        "\n",
        "    time_since = time.time() - since\n",
        "    print('Training complete in {:.0f}m {:.0f}s'.format(\n",
        "        time_since // 60, time_since % 60))\n",
        "    print('Best val Acc: {:4f}'.format(best_acc))\n",
        "\n",
        "    # Now we'll load in the best model weights and return it\n",
        "    model.load_state_dict(best_model_wts)\n",
        "    return model"
      ],
      "metadata": {
        "id": "LozuGUn8Yp4F"
      },
      "execution_count": null,
      "outputs": []
    },
    {
      "cell_type": "code",
      "source": [
        "def visualize_model(model, num_images=6):\n",
        "    was_training = model.training\n",
        "    model.eval()\n",
        "    images_handeled = 0\n",
        "\n",
        "    with torch.no_grad():\n",
        "        for i, (inputs, labels ) in enumerate(dataloaders['valid']):\n",
        "\n",
        "            inputs = inputs.to(device)\n",
        "            labels = labels.to(device)\n",
        "\n",
        "            outputs = model(inputs)\n",
        "            _, preds = torch.max(outputs, 1)\n",
        "\n",
        "            for j in range(inputs.size()[0]):\n",
        "                images_handeled += 1\n",
        "                fig = plt.figure()\n",
        "                ax = fig.add_subplot(1, 2, 1)\n",
        "                ax.axis('off')\n",
        "                ax.set_title('predicted: {}'.format(class_names[preds[j]]))\n",
        "                imshow(inputs.cpu().data[j])\n",
        "\n",
        "                if images_handeled == num_images:\n",
        "                    model.train(mode=was_training)\n",
        "                    return\n",
        "        model.train(mode=was_training)\n"
      ],
      "metadata": {
        "id": "qQY-mDVFYw4e"
      },
      "execution_count": null,
      "outputs": []
    },
    {
      "cell_type": "code",
      "source": [
        "def imshow(inp, title=None):\n",
        "    inp = inp.numpy().transpose((1, 2, 0))\n",
        "    mean = np.array([mean_nums])\n",
        "    std = np.array([std_nums])\n",
        "    inp = std * inp + mean\n",
        "    inp = np.clip(inp, 0, 1)\n",
        "    plt.imshow(inp)\n",
        "    if title is not None:\n",
        "        plt.title(title)\n",
        "    plt.pause(0.001) "
      ],
      "metadata": {
        "id": "VZTtfy09aLaS"
      },
      "execution_count": null,
      "outputs": []
    },
    {
      "cell_type": "code",
      "source": [
        "def save_model(model, optimizer, save_path, epoch):\n",
        "    torch.save({\n",
        "        'model_state_dict': model.state_dict(),\n",
        "        'optimizer_state_dict': optimizer.state_dict(),\n",
        "        'epoch': epoch\n",
        "    }, save_path)"
      ],
      "metadata": {
        "id": "sLcfj-9Ee3es"
      },
      "execution_count": null,
      "outputs": []
    },
    {
      "cell_type": "code",
      "source": [
        "def load_model(model, optimizer, load_path):\n",
        "    checkpoint = torch.load(load_path)\n",
        "    model.load_state_dict(checkpoint['model_state_dict'])\n",
        "    optimizer.load_state_dict(checkpoint['optimizer_state_dict'])\n",
        "    epoch = checkpoint['epoch']\n",
        "    \n",
        "    return model, optimizer, epoch"
      ],
      "metadata": {
        "id": "phE6O0D0ffXK"
      },
      "execution_count": null,
      "outputs": []
    },
    {
      "cell_type": "code",
      "source": [
        "def predict(model, test_image_name, chosen_transforms):\n",
        "\n",
        "    transform = chosen_transforms['valid']\n",
        "\n",
        "    test_image = Image.open(test_image_name).convert('RGB')\n",
        "\n",
        "    plt.imshow(test_image)\n",
        "\n",
        "    test_image_tensor = transform(test_image)\n",
        "\n",
        "    if torch.cuda.is_available():\n",
        "        test_image_tensor = test_image_tensor.view(1, 3, 224, 224).cuda()\n",
        "    else:\n",
        "        test_image_tensor = test_image_tensor.view(1, 3, 224, 224)\n",
        "\n",
        "    with torch.no_grad():\n",
        "        model.eval()\n",
        "        out = model(test_image_tensor)\n",
        "        _, preds = torch.max(out, 1)\n",
        "\n",
        "        print(\"Image class:  \", class_names[preds[0]])"
      ],
      "metadata": {
        "id": "gvix6h6ppYNX"
      },
      "execution_count": null,
      "outputs": []
    },
    {
      "cell_type": "code",
      "source": [
        "def predict_gray(model, test_image_name, chosen_transforms):\n",
        "\n",
        "    transform = chosen_transforms['valid']\n",
        "\n",
        "    test_image = Image.open(test_image_name).convert('RGB')\n",
        "\n",
        "    plt.imshow(test_image)\n",
        "\n",
        "    test_image_tensor = transform(test_image)\n",
        "\n",
        "    if torch.cuda.is_available():\n",
        "        test_image_tensor = test_image_tensor.view(1, 1, 224, 224).cuda()\n",
        "    else:\n",
        "        test_image_tensor = test_image_tensor.view(1, 1, 224, 224)\n",
        "\n",
        "    with torch.no_grad():\n",
        "        model.eval()\n",
        "        out = model(test_image_tensor)\n",
        "        _, preds = torch.max(out, 1)\n",
        "\n",
        "        print(\"Image class:  \", class_names[preds[0]])"
      ],
      "metadata": {
        "id": "boElZYXxpxxp"
      },
      "execution_count": null,
      "outputs": []
    },
    {
      "cell_type": "markdown",
      "source": [
        "## Iniciais (Bulbasaur, Charmander, Squirtle)"
      ],
      "metadata": {
        "id": "dDy45hKH56TJ"
      }
    },
    {
      "cell_type": "markdown",
      "source": [
        "### Resnet - 3 canais (RGB)"
      ],
      "metadata": {
        "id": "PAh7_KOF00o6"
      }
    },
    {
      "cell_type": "code",
      "source": [
        "mean_nums = [0.485, 0.456, 0.406]\n",
        "std_nums = [0.229, 0.224, 0.225]\n",
        "\n",
        "chosen_transforms = {'train': transforms.Compose([\n",
        "        transforms.RandomResizedCrop(size=256),\n",
        "        transforms.RandomRotation(degrees=15),\n",
        "        transforms.RandomHorizontalFlip(),\n",
        "        transforms.ToTensor(),\n",
        "        transforms.Normalize(mean_nums, std_nums)\n",
        "]), 'valid': transforms.Compose([\n",
        "        transforms.Resize(256),\n",
        "        transforms.CenterCrop(224),\n",
        "        transforms.ToTensor(),\n",
        "        transforms.Normalize(mean_nums, std_nums)\n",
        "]),\n",
        "}"
      ],
      "metadata": {
        "id": "QjdfUszC00o7"
      },
      "execution_count": null,
      "outputs": []
    },
    {
      "cell_type": "code",
      "source": [
        "chosen_datasets = {x: datasets.ImageFolder(os.path.join(base_dir, x), chosen_transforms[x]) for x in ['train', 'valid']}"
      ],
      "metadata": {
        "id": "UhGi_cLI00o7"
      },
      "execution_count": null,
      "outputs": []
    },
    {
      "cell_type": "code",
      "source": [
        "chosen_datasets"
      ],
      "metadata": {
        "id": "pnGQGMcZ00o7"
      },
      "execution_count": null,
      "outputs": []
    },
    {
      "cell_type": "code",
      "source": [
        "dataloaders = {x: torch.utils.data.DataLoader(chosen_datasets[x], batch_size=4,\n",
        "  shuffle=True, num_workers=2)\n",
        "              for x in ['train', 'valid']}"
      ],
      "metadata": {
        "id": "NxlCjWJG00o8"
      },
      "execution_count": null,
      "outputs": []
    },
    {
      "cell_type": "code",
      "source": [
        "dataset_sizes = {x: len(chosen_datasets[x]) for x in ['train', 'valid']}\n",
        "class_names = chosen_datasets['train'].classes\n",
        "\n",
        "device = torch.device(\"cuda\" if torch.cuda.is_available() else \"cpu\")"
      ],
      "metadata": {
        "id": "hdUpWHaM00o8"
      },
      "execution_count": null,
      "outputs": []
    },
    {
      "cell_type": "code",
      "source": [
        "print(dataset_sizes)\n",
        "print(class_names)"
      ],
      "metadata": {
        "id": "-ttrtBY_00o8"
      },
      "execution_count": null,
      "outputs": []
    },
    {
      "cell_type": "code",
      "source": [
        "inputs, classes = next(iter(dataloaders['train']))\n",
        "\n",
        "out = torchvision.utils.make_grid(inputs)\n",
        "\n",
        "imshow(out, title=[class_names[x] for x in classes])"
      ],
      "metadata": {
        "id": "HeDqsGUc00o9"
      },
      "execution_count": null,
      "outputs": []
    },
    {
      "cell_type": "code",
      "source": [
        "res_mod_rgb = models.resnet34(pretrained=True)\n",
        "\n",
        "num_ftrs = res_mod_rgb.fc.in_features\n",
        "res_mod_rgb.fc = nn.Linear(num_ftrs, 3)"
      ],
      "metadata": {
        "id": "r0EOUZ8t00o9"
      },
      "execution_count": null,
      "outputs": []
    },
    {
      "cell_type": "code",
      "source": [
        "res_mod_rgb"
      ],
      "metadata": {
        "id": "FlHodj_700o9"
      },
      "execution_count": null,
      "outputs": []
    },
    {
      "cell_type": "code",
      "source": [
        "for name, child in res_mod_rgb.named_children():\n",
        "    print(name)"
      ],
      "metadata": {
        "id": "VRnOJcDo00o9"
      },
      "execution_count": null,
      "outputs": []
    },
    {
      "cell_type": "code",
      "source": [
        "res_mod_rgb = res_mod_rgb.to(device)\n",
        "criterion = nn.CrossEntropyLoss()\n",
        "\n",
        "optimizer_ft = optim.SGD(res_mod_rgb.parameters(), lr=0.001, momentum=0.9)\n",
        "\n",
        "exp_lr_scheduler = lr_scheduler.StepLR(optimizer_ft, step_size=7, gamma=0.1)"
      ],
      "metadata": {
        "id": "oRmdkefY00o-"
      },
      "execution_count": null,
      "outputs": []
    },
    {
      "cell_type": "code",
      "source": [
        "base_model_rgb = train_model(res_mod_rgb, criterion, optimizer_ft, exp_lr_scheduler, num_epochs=3)\n",
        "visualize_model(base_model_rgb)\n",
        "plt.show()"
      ],
      "metadata": {
        "id": "1mN4QBz_00o_"
      },
      "execution_count": null,
      "outputs": []
    },
    {
      "cell_type": "code",
      "source": [
        "path_model = '/content/pokedex/pokedex_rgb.pt'\n",
        "\n",
        "save_model(base_model_rgb, optimizer_ft, path_model, 3)"
      ],
      "metadata": {
        "id": "xsfxhSbVcbz2"
      },
      "execution_count": null,
      "outputs": []
    },
    {
      "cell_type": "code",
      "source": [
        "res_mod_rgb = models.resnet34(pretrained=False)\n",
        "num_ftrs = res_mod_rgb.fc.in_features\n",
        "res_mod_rgb.fc = nn.Linear(num_ftrs, 3)\n",
        "\n",
        "optimizer_ft = optim.SGD(res_mod_rgb.parameters(), lr=0.001, momentum=0.9)\n",
        "\n",
        "model, optimizer, epoch = load_model(res_mod_rgb, optimizer_ft,  path_model)\n",
        "\n"
      ],
      "metadata": {
        "id": "Dhak_EjMfpIL"
      },
      "execution_count": null,
      "outputs": []
    },
    {
      "cell_type": "code",
      "source": [
        "predict(model, '/content/pokedex/PokemonData/Metapod/00cc01c6418b4a268691127baf8cc8ce.jpg', chosen_transforms)"
      ],
      "metadata": {
        "id": "NSeavh4QnTcH"
      },
      "execution_count": null,
      "outputs": []
    },
    {
      "cell_type": "code",
      "source": [
        "predict(model, '/content/pokedex/PokemonData/Golduck/8eb4f82fad814eba820201e26199fc09.jpg', chosen_transforms)"
      ],
      "metadata": {
        "id": "gHMK_imModhU"
      },
      "execution_count": null,
      "outputs": []
    },
    {
      "cell_type": "markdown",
      "source": [
        "### Resnet - 1 canal (Grayscale)"
      ],
      "metadata": {
        "id": "u5zMkvfm518j"
      }
    },
    {
      "cell_type": "code",
      "source": [
        "mean_nums = [0.485, 0.456, 0.406]\n",
        "std_nums = [0.229, 0.224, 0.225]\n",
        "\n",
        "chosen_transforms = {'train': transforms.Compose([\n",
        "        transforms.RandomResizedCrop(size=256),\n",
        "        transforms.RandomRotation(degrees=15),\n",
        "        transforms.Grayscale(),\n",
        "        transforms.RandomHorizontalFlip(),\n",
        "        transforms.ToTensor(),\n",
        "        # transforms.Normalize(mean_nums, std_nums)\n",
        "]), 'valid': transforms.Compose([\n",
        "        transforms.Resize(256),\n",
        "        transforms.CenterCrop(224),\n",
        "        transforms.Grayscale(),\n",
        "        transforms.ToTensor(),\n",
        "        # transforms.Normalize(mean_nums, std_nums)\n",
        "]),\n",
        "}"
      ],
      "metadata": {
        "id": "Fj0A16B9518j"
      },
      "execution_count": null,
      "outputs": []
    },
    {
      "cell_type": "code",
      "source": [
        "chosen_datasets = {x: datasets.ImageFolder(os.path.join(base_dir, x), chosen_transforms[x]) for x in ['train', 'valid']}"
      ],
      "metadata": {
        "id": "7LxkwtCT518j"
      },
      "execution_count": null,
      "outputs": []
    },
    {
      "cell_type": "code",
      "source": [
        "chosen_datasets"
      ],
      "metadata": {
        "id": "v-R_Qz-4518j"
      },
      "execution_count": null,
      "outputs": []
    },
    {
      "cell_type": "code",
      "source": [
        "dataloaders = {x: torch.utils.data.DataLoader(chosen_datasets[x], batch_size=4,\n",
        "  shuffle=True, num_workers=2)\n",
        "              for x in ['train', 'valid']}"
      ],
      "metadata": {
        "id": "xbQONgpB518j"
      },
      "execution_count": null,
      "outputs": []
    },
    {
      "cell_type": "code",
      "source": [
        "dataset_sizes = {x: len(chosen_datasets[x]) for x in ['train', 'valid']}\n",
        "class_names = chosen_datasets['train'].classes\n",
        "\n",
        "device = torch.device(\"cuda\" if torch.cuda.is_available() else \"cpu\")"
      ],
      "metadata": {
        "id": "vZh1o67c518k"
      },
      "execution_count": null,
      "outputs": []
    },
    {
      "cell_type": "code",
      "source": [
        "print(dataset_sizes)\n",
        "print(class_names)"
      ],
      "metadata": {
        "id": "Y0Cyud-q518k"
      },
      "execution_count": null,
      "outputs": []
    },
    {
      "cell_type": "code",
      "source": [
        "inputs, classes = next(iter(dataloaders['train']))\n",
        "\n",
        "out = torchvision.utils.make_grid(inputs)\n",
        "\n",
        "imshow(out, title=[class_names[x] for x in classes])"
      ],
      "metadata": {
        "id": "VK2Lu2-z518k"
      },
      "execution_count": null,
      "outputs": []
    },
    {
      "cell_type": "code",
      "source": [
        "res_mod_gray = models.resnet34(pretrained=True)\n",
        "\n",
        "num_ftrs = res_mod_gray.fc.in_features\n",
        "res_mod_gray.fc = nn.Linear(num_ftrs, 3)"
      ],
      "metadata": {
        "id": "hPa_LKfG518k"
      },
      "execution_count": null,
      "outputs": []
    },
    {
      "cell_type": "code",
      "source": [
        "res_mod_gray.conv1 = nn.Conv2d(1, 64, kernel_size=(5, 5), stride=(2, 2), padding=(3, 3), bias=False)"
      ],
      "metadata": {
        "id": "nrZVDTdH518k"
      },
      "execution_count": null,
      "outputs": []
    },
    {
      "cell_type": "code",
      "source": [
        "res_mod_gray"
      ],
      "metadata": {
        "id": "zl6gq59T518k"
      },
      "execution_count": null,
      "outputs": []
    },
    {
      "cell_type": "code",
      "source": [
        "for name, child in res_mod_gray.named_children():\n",
        "    print(name)"
      ],
      "metadata": {
        "id": "5d6yI5o7518k"
      },
      "execution_count": null,
      "outputs": []
    },
    {
      "cell_type": "code",
      "source": [
        "res_mod_gray = res_mod_gray.to(device)\n",
        "criterion = nn.CrossEntropyLoss()\n",
        "\n",
        "optimizer_ft = optim.SGD(res_mod_gray.parameters(), lr=0.001, momentum=0.9)\n",
        "\n",
        "exp_lr_scheduler = lr_scheduler.StepLR(optimizer_ft, step_size=7, gamma=0.1)"
      ],
      "metadata": {
        "id": "-lwoxEdW518k"
      },
      "execution_count": null,
      "outputs": []
    },
    {
      "cell_type": "code",
      "source": [
        "base_model_gray = train_model(res_mod_gray, criterion, optimizer_ft, exp_lr_scheduler, num_epochs=10)\n",
        "visualize_model(base_model_gray)\n",
        "plt.show()"
      ],
      "metadata": {
        "id": "3UOd5245518l"
      },
      "execution_count": null,
      "outputs": []
    },
    {
      "cell_type": "code",
      "source": [
        "path_model = '/content/pokedex/pokedex_gray.pt'\n",
        "\n",
        "save_model(base_model_gray, optimizer_ft, path_model, 3)"
      ],
      "metadata": {
        "id": "MYh0mtJNoMnM"
      },
      "execution_count": null,
      "outputs": []
    },
    {
      "cell_type": "code",
      "source": [
        "save_model(base_model_gray, optimizer_ft, path_model, 3)\n",
        "res_mod_gray = models.resnet34(pretrained=False)\n",
        "res_mod_gray.conv1 = nn.Conv2d(1, 64, kernel_size=(5, 5), stride=(2, 2), padding=(3, 3), bias=False)\n",
        "num_ftrs = res_mod_gray.fc.in_features\n",
        "res_mod_gray.fc = nn.Linear(num_ftrs, 3)\n",
        "\n",
        "optimizer_ft = optim.SGD(res_mod_gray.parameters(), lr=0.001, momentum=0.9)\n",
        "\n",
        "model, optimizer, epoch = load_model(res_mod_gray, optimizer_ft,  path_model)\n"
      ],
      "metadata": {
        "id": "6Vg6jCstoUXU"
      },
      "execution_count": null,
      "outputs": []
    },
    {
      "cell_type": "code",
      "source": [
        "predict_gray(model, '/content/pokedex/PokemonData/Golduck/8eb4f82fad814eba820201e26199fc09.jpg', chosen_transforms)"
      ],
      "metadata": {
        "id": "EPJR9PcjpeYR"
      },
      "execution_count": null,
      "outputs": []
    },
    {
      "cell_type": "code",
      "source": [
        "predict_gray(model, '/content/pokedex/PokemonData/Metapod/00cc01c6418b4a268691127baf8cc8ce.jpg', chosen_transforms)"
      ],
      "metadata": {
        "id": "8NytjHlfp_qy"
      },
      "execution_count": null,
      "outputs": []
    },
    {
      "cell_type": "markdown",
      "source": [
        "## Evolução (Pikachu -> Raichu)"
      ],
      "metadata": {
        "id": "JT_CRa0V5wax"
      }
    },
    {
      "cell_type": "markdown",
      "source": [
        "### Resnet - 3 canais (RGB)"
      ],
      "metadata": {
        "id": "lgjhwv1jtJWK"
      }
    },
    {
      "cell_type": "code",
      "source": [
        "mean_nums = [0.485, 0.456, 0.406]\n",
        "std_nums = [0.229, 0.224, 0.225]\n",
        "\n",
        "chosen_transforms = {'train': transforms.Compose([\n",
        "        transforms.RandomResizedCrop(size=256),\n",
        "        transforms.RandomRotation(degrees=15),\n",
        "        transforms.RandomHorizontalFlip(),\n",
        "        transforms.ToTensor(),\n",
        "        transforms.Normalize(mean_nums, std_nums)\n",
        "]), 'valid': transforms.Compose([\n",
        "        transforms.Resize(256),\n",
        "        transforms.CenterCrop(224),\n",
        "        transforms.ToTensor(),\n",
        "        transforms.Normalize(mean_nums, std_nums)\n",
        "]),\n",
        "}"
      ],
      "metadata": {
        "id": "4gCMhejj-8pK"
      },
      "execution_count": null,
      "outputs": []
    },
    {
      "cell_type": "code",
      "source": [
        "chosen_datasets = {x: datasets.ImageFolder(os.path.join(base_dir_evo, x), chosen_transforms[x]) for x in ['train', 'valid']}"
      ],
      "metadata": {
        "id": "7Wl0wl5N_CnU"
      },
      "execution_count": null,
      "outputs": []
    },
    {
      "cell_type": "code",
      "source": [
        "chosen_datasets"
      ],
      "metadata": {
        "id": "WzpGd3Po_XpC"
      },
      "execution_count": null,
      "outputs": []
    },
    {
      "cell_type": "code",
      "source": [
        "dataloaders = {x: torch.utils.data.DataLoader(chosen_datasets[x], batch_size=4,\n",
        "  shuffle=True, num_workers=2)\n",
        "              for x in ['train', 'valid']}"
      ],
      "metadata": {
        "id": "jzZrSTcN_ap4"
      },
      "execution_count": null,
      "outputs": []
    },
    {
      "cell_type": "code",
      "source": [
        "dataset_sizes = {x: len(chosen_datasets[x]) for x in ['train', 'valid']}\n",
        "class_names = chosen_datasets['train'].classes\n",
        "\n",
        "device = torch.device(\"cuda\" if torch.cuda.is_available() else \"cpu\")"
      ],
      "metadata": {
        "id": "Z69oMxCn_jZN"
      },
      "execution_count": null,
      "outputs": []
    },
    {
      "cell_type": "code",
      "source": [
        "print(dataset_sizes)\n",
        "print(class_names)"
      ],
      "metadata": {
        "id": "9zaKqoKJ_myV"
      },
      "execution_count": null,
      "outputs": []
    },
    {
      "cell_type": "code",
      "source": [
        "inputs, classes = next(iter(dataloaders['train']))\n",
        "\n",
        "out = torchvision.utils.make_grid(inputs)\n",
        "\n",
        "imshow(out, title=[class_names[x] for x in classes])"
      ],
      "metadata": {
        "id": "fzUdadam_xeY"
      },
      "execution_count": null,
      "outputs": []
    },
    {
      "cell_type": "code",
      "source": [
        "res_mod_evo_rgb = models.resnet34(pretrained=True)\n",
        "\n",
        "num_ftrs = res_mod_evo_rgb.fc.in_features\n",
        "res_mod_evo_rgb.fc = nn.Linear(num_ftrs, 2)"
      ],
      "metadata": {
        "id": "Uw_Ws8m8_97J"
      },
      "execution_count": null,
      "outputs": []
    },
    {
      "cell_type": "code",
      "source": [
        "res_mod_evo_rgb"
      ],
      "metadata": {
        "id": "heUku6kDZS2x"
      },
      "execution_count": null,
      "outputs": []
    },
    {
      "cell_type": "code",
      "source": [
        "for name, child in res_mod_evo_rgb.named_children():\n",
        "    print(name)"
      ],
      "metadata": {
        "id": "GeEIlWUUAB3u"
      },
      "execution_count": null,
      "outputs": []
    },
    {
      "cell_type": "code",
      "source": [
        "res_mod_evo_rgb = res_mod_evo_rgb.to(device)\n",
        "criterion = nn.CrossEntropyLoss()\n",
        "\n",
        "optimizer_ft = optim.SGD(res_mod_evo_rgb.parameters(), lr=0.001, momentum=0.9)\n",
        "\n",
        "exp_lr_scheduler = lr_scheduler.StepLR(optimizer_ft, step_size=7, gamma=0.1)"
      ],
      "metadata": {
        "id": "KxEyEJ6AAFHc"
      },
      "execution_count": null,
      "outputs": []
    },
    {
      "cell_type": "code",
      "source": [
        "base_model_evo_rgb = train_model(res_mod_evo_rgb, criterion, optimizer_ft, exp_lr_scheduler, num_epochs=5)\n",
        "visualize_model(base_model_evo_rgb)\n",
        "plt.show()"
      ],
      "metadata": {
        "id": "VHRR9sXpAel0"
      },
      "execution_count": null,
      "outputs": []
    },
    {
      "cell_type": "code",
      "source": [
        "path_model = '/content/pokedex/pokedex_evo_rgb.pt'\n",
        "\n",
        "save_model(base_model_evo_rgb, optimizer_ft, path_model, 3)"
      ],
      "metadata": {
        "id": "o27ALlLMtekf"
      },
      "execution_count": null,
      "outputs": []
    },
    {
      "cell_type": "code",
      "source": [
        "res_mod_evo_rgb = models.resnet34(pretrained=False)\n",
        "num_ftrs = res_mod_evo_rgb.fc.in_features\n",
        "res_mod_evo_rgb.fc = nn.Linear(num_ftrs, 2)\n",
        "\n",
        "optimizer_ft = optim.SGD(res_mod_evo_rgb.parameters(), lr=0.001, momentum=0.9)\n",
        "\n",
        "model, optimizer, epoch = load_model(res_mod_evo_rgb, optimizer_ft,  path_model)\n"
      ],
      "metadata": {
        "id": "flUAOdyHtekg"
      },
      "execution_count": null,
      "outputs": []
    },
    {
      "cell_type": "code",
      "source": [
        "predict(model, '/content/pokedex/PokemonData/Charizard/001d0fa5713a4b01b6a8772370d9bf98.jpg', chosen_transforms)"
      ],
      "metadata": {
        "id": "cw5qofkjtekg"
      },
      "execution_count": null,
      "outputs": []
    },
    {
      "cell_type": "markdown",
      "source": [
        "### Resnet - 1 canal (Grayscale)"
      ],
      "metadata": {
        "id": "sF9E2q4PPG-6"
      }
    },
    {
      "cell_type": "code",
      "source": [
        "mean_nums = [0.485, 0.456, 0.406]\n",
        "std_nums = [0.229, 0.224, 0.225]\n",
        "\n",
        "chosen_transforms = {'train': transforms.Compose([\n",
        "        transforms.RandomResizedCrop(size=256),\n",
        "        transforms.RandomRotation(degrees=15),\n",
        "        transforms.Grayscale(),\n",
        "        transforms.RandomHorizontalFlip(),\n",
        "        transforms.ToTensor(),\n",
        "]), 'valid': transforms.Compose([\n",
        "        transforms.Resize(256),\n",
        "        transforms.CenterCrop(224),\n",
        "        transforms.Grayscale(),\n",
        "        transforms.ToTensor(),\n",
        "]),\n",
        "}"
      ],
      "metadata": {
        "id": "adkUHSxxPG-8"
      },
      "execution_count": null,
      "outputs": []
    },
    {
      "cell_type": "code",
      "source": [
        "chosen_datasets = {x: datasets.ImageFolder(os.path.join(base_dir_evo, x), chosen_transforms[x]) for x in ['train', 'valid']}"
      ],
      "metadata": {
        "id": "RJERB_iDPG-9"
      },
      "execution_count": null,
      "outputs": []
    },
    {
      "cell_type": "code",
      "source": [
        "chosen_datasets"
      ],
      "metadata": {
        "id": "7ITVkFwYPG-9"
      },
      "execution_count": null,
      "outputs": []
    },
    {
      "cell_type": "code",
      "source": [
        "dataloaders = {x: torch.utils.data.DataLoader(chosen_datasets[x], batch_size=4,\n",
        "  shuffle=True, num_workers=2)\n",
        "              for x in ['train', 'valid']}"
      ],
      "metadata": {
        "id": "kCl8Q0aTPG--"
      },
      "execution_count": null,
      "outputs": []
    },
    {
      "cell_type": "code",
      "source": [
        "dataset_sizes = {x: len(chosen_datasets[x]) for x in ['train', 'valid']}\n",
        "class_names = chosen_datasets['train'].classes\n",
        "\n",
        "device = torch.device(\"cuda\" if torch.cuda.is_available() else \"cpu\")"
      ],
      "metadata": {
        "id": "PXwE3ixJPG--"
      },
      "execution_count": null,
      "outputs": []
    },
    {
      "cell_type": "code",
      "source": [
        "print(dataset_sizes)\n",
        "print(class_names)"
      ],
      "metadata": {
        "id": "Pgc6AMQFPG-_"
      },
      "execution_count": null,
      "outputs": []
    },
    {
      "cell_type": "code",
      "source": [
        "inputs, classes = next(iter(dataloaders['train']))\n",
        "\n",
        "out = torchvision.utils.make_grid(inputs)\n",
        "\n",
        "imshow(out, title=[class_names[x] for x in classes])"
      ],
      "metadata": {
        "id": "kErPxrksPG_A"
      },
      "execution_count": null,
      "outputs": []
    },
    {
      "cell_type": "code",
      "source": [
        "res_mod_evo_gray = models.resnet34(pretrained=True)\n",
        "\n",
        "num_ftrs = res_mod_evo_gray.fc.in_features\n",
        "res_mod_evo_gray.fc = nn.Linear(num_ftrs, 2)"
      ],
      "metadata": {
        "id": "Zs3zXDJxPG_B"
      },
      "execution_count": null,
      "outputs": []
    },
    {
      "cell_type": "code",
      "source": [
        "res_mod_evo_gray.conv1 = nn.Conv2d(1, 64, kernel_size=(7, 7), stride=(2, 2), padding=(3, 3), bias=False)"
      ],
      "metadata": {
        "id": "D97edlc0PG_C"
      },
      "execution_count": null,
      "outputs": []
    },
    {
      "cell_type": "code",
      "source": [
        "res_mod_evo_gray"
      ],
      "metadata": {
        "id": "OHhxdsdcPG_C"
      },
      "execution_count": null,
      "outputs": []
    },
    {
      "cell_type": "code",
      "source": [
        "for name, child in res_mod_evo_gray.named_children():\n",
        "    print(name)"
      ],
      "metadata": {
        "id": "XcJvEUqoPG_D"
      },
      "execution_count": null,
      "outputs": []
    },
    {
      "cell_type": "code",
      "source": [
        "res_mod_evo_gray = res_mod_evo_gray.to(device)\n",
        "criterion = nn.CrossEntropyLoss()\n",
        "\n",
        "optimizer_ft = optim.SGD(res_mod_evo_gray.parameters(), lr=0.001, momentum=0.9)\n",
        "\n",
        "exp_lr_scheduler = lr_scheduler.StepLR(optimizer_ft, step_size=7, gamma=0.1)"
      ],
      "metadata": {
        "id": "fhsm6ZCoPG_D"
      },
      "execution_count": null,
      "outputs": []
    },
    {
      "cell_type": "code",
      "source": [
        "base_model_evo_gray = train_model(res_mod_evo_gray, criterion, optimizer_ft, exp_lr_scheduler, num_epochs=10)\n",
        "visualize_model(base_model_evo_gray)\n",
        "plt.show()"
      ],
      "metadata": {
        "id": "UkWbMYbKPG_I"
      },
      "execution_count": null,
      "outputs": []
    },
    {
      "cell_type": "code",
      "source": [
        "path_model = '/content/pokedex/pokedex_evo_gray.pt'\n",
        "\n",
        "save_model(base_model_evo_gray, optimizer_ft, path_model, 3)"
      ],
      "metadata": {
        "id": "_jPDnSAYt5tb"
      },
      "execution_count": null,
      "outputs": []
    },
    {
      "cell_type": "code",
      "source": [
        "res_mod_evo_gray = models.resnet34(pretrained=False)\n",
        "res_mod_evo_gray.conv1 = nn.Conv2d(1, 64, kernel_size=(7, 7), stride=(2, 2), padding=(3, 3), bias=False)\n",
        "num_ftrs = res_mod_evo_gray.fc.in_features\n",
        "res_mod_evo_gray.fc = nn.Linear(num_ftrs, 2)\n",
        "\n",
        "optimizer_ft = optim.SGD(res_mod_evo_gray.parameters(), lr=0.001, momentum=0.9)\n",
        "\n",
        "model, optimizer, epoch = load_model(res_mod_evo_gray, optimizer_ft,  path_model)\n"
      ],
      "metadata": {
        "id": "xdmJ6aEVt5tb"
      },
      "execution_count": null,
      "outputs": []
    },
    {
      "cell_type": "code",
      "source": [
        "predict_gray(model, '/content/pokedex/PokemonData/Golduck/8eb4f82fad814eba820201e26199fc09.jpg', chosen_transforms)"
      ],
      "metadata": {
        "id": "feWTHbXEt5tb"
      },
      "execution_count": null,
      "outputs": []
    },
    {
      "cell_type": "code",
      "source": [
        "predict_gray(model, '/content/pokedex/PokemonData/Metapod/00cc01c6418b4a268691127baf8cc8ce.jpg', chosen_transforms)"
      ],
      "metadata": {
        "id": "5M_ckbm2t5tc"
      },
      "execution_count": null,
      "outputs": []
    }
  ]
}
